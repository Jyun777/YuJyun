{
 "cells": [
  {
   "cell_type": "code",
   "execution_count": null,
   "metadata": {},
   "outputs": [
    {
     "name": "stdout",
     "output_type": "stream",
     "text": [
      "['Symbol', 'XLB', 'IYM', 'IGE', 'VAW', 'PKB', 'XHB', 'ITB', 'GDX', 'XME', 'MXI', 'PYZ', 'SLX', 'RTM', 'UYM', 'SMN', 'FXZ', 'MOO', 'CUT', 'WOOD', 'HAP', 'PSAU', 'PAGG', 'FLM', 'GRES', 'GDXJ', 'CHIM', 'FTRI', 'FTAG', 'SBM', 'PSCM', 'SIL', 'COPX', 'LIT', 'GNR', 'REMX', 'GOEX', 'URA', 'NUGT', 'DUST', 'CROP', 'SOIL', 'GUNR', 'PICK', 'RING', 'SLVP', 'VEGI', 'SILJ', 'JNUG', 'JDST', 'FMAT', 'SGDM', 'GDXX', 'GDXS', 'HOML', 'SGDJ', 'NAIL', 'NANR']\n",
      "XLB\n",
      "XLB\n"
     ]
    },
    {
     "name": "stderr",
     "output_type": "stream",
     "text": [
      "/Users/jyun/anaconda3/lib/python3.7/site-packages/ipykernel_launcher.py:30: DeprecationWarning: use options instead of chrome_options\n"
     ]
    },
    {
     "name": "stdout",
     "output_type": "stream",
     "text": [
      "IYM\n",
      "IYM\n"
     ]
    },
    {
     "name": "stderr",
     "output_type": "stream",
     "text": [
      "/Users/jyun/anaconda3/lib/python3.7/site-packages/ipykernel_launcher.py:30: DeprecationWarning: use options instead of chrome_options\n"
     ]
    },
    {
     "name": "stdout",
     "output_type": "stream",
     "text": [
      "IGE\n",
      "IGE\n"
     ]
    },
    {
     "name": "stderr",
     "output_type": "stream",
     "text": [
      "/Users/jyun/anaconda3/lib/python3.7/site-packages/ipykernel_launcher.py:30: DeprecationWarning: use options instead of chrome_options\n"
     ]
    },
    {
     "name": "stdout",
     "output_type": "stream",
     "text": [
      "VAW\n",
      "VAW\n"
     ]
    },
    {
     "name": "stderr",
     "output_type": "stream",
     "text": [
      "/Users/jyun/anaconda3/lib/python3.7/site-packages/ipykernel_launcher.py:30: DeprecationWarning: use options instead of chrome_options\n"
     ]
    },
    {
     "name": "stdout",
     "output_type": "stream",
     "text": [
      "PKB\n",
      "PKB\n"
     ]
    },
    {
     "name": "stderr",
     "output_type": "stream",
     "text": [
      "/Users/jyun/anaconda3/lib/python3.7/site-packages/ipykernel_launcher.py:30: DeprecationWarning: use options instead of chrome_options\n"
     ]
    },
    {
     "name": "stdout",
     "output_type": "stream",
     "text": [
      "XHB\n",
      "XHB\n"
     ]
    },
    {
     "name": "stderr",
     "output_type": "stream",
     "text": [
      "/Users/jyun/anaconda3/lib/python3.7/site-packages/ipykernel_launcher.py:30: DeprecationWarning: use options instead of chrome_options\n"
     ]
    },
    {
     "name": "stdout",
     "output_type": "stream",
     "text": [
      "ITB\n",
      "ITB\n"
     ]
    },
    {
     "name": "stderr",
     "output_type": "stream",
     "text": [
      "/Users/jyun/anaconda3/lib/python3.7/site-packages/ipykernel_launcher.py:30: DeprecationWarning: use options instead of chrome_options\n"
     ]
    },
    {
     "name": "stdout",
     "output_type": "stream",
     "text": [
      "GDX\n",
      "GDX\n"
     ]
    },
    {
     "name": "stderr",
     "output_type": "stream",
     "text": [
      "/Users/jyun/anaconda3/lib/python3.7/site-packages/ipykernel_launcher.py:30: DeprecationWarning: use options instead of chrome_options\n"
     ]
    },
    {
     "name": "stdout",
     "output_type": "stream",
     "text": [
      "XME\n",
      "XME\n"
     ]
    },
    {
     "name": "stderr",
     "output_type": "stream",
     "text": [
      "/Users/jyun/anaconda3/lib/python3.7/site-packages/ipykernel_launcher.py:30: DeprecationWarning: use options instead of chrome_options\n"
     ]
    },
    {
     "name": "stdout",
     "output_type": "stream",
     "text": [
      "MXI\n",
      "MXI\n"
     ]
    },
    {
     "name": "stderr",
     "output_type": "stream",
     "text": [
      "/Users/jyun/anaconda3/lib/python3.7/site-packages/ipykernel_launcher.py:30: DeprecationWarning: use options instead of chrome_options\n"
     ]
    },
    {
     "name": "stdout",
     "output_type": "stream",
     "text": [
      "PYZ\n",
      "PYZ\n"
     ]
    },
    {
     "name": "stderr",
     "output_type": "stream",
     "text": [
      "/Users/jyun/anaconda3/lib/python3.7/site-packages/ipykernel_launcher.py:30: DeprecationWarning: use options instead of chrome_options\n"
     ]
    },
    {
     "name": "stdout",
     "output_type": "stream",
     "text": [
      "SLX\n",
      "SLX\n"
     ]
    },
    {
     "name": "stderr",
     "output_type": "stream",
     "text": [
      "/Users/jyun/anaconda3/lib/python3.7/site-packages/ipykernel_launcher.py:30: DeprecationWarning: use options instead of chrome_options\n"
     ]
    },
    {
     "name": "stdout",
     "output_type": "stream",
     "text": [
      "RTM\n",
      "RTM\n"
     ]
    },
    {
     "name": "stderr",
     "output_type": "stream",
     "text": [
      "/Users/jyun/anaconda3/lib/python3.7/site-packages/ipykernel_launcher.py:30: DeprecationWarning: use options instead of chrome_options\n"
     ]
    },
    {
     "name": "stdout",
     "output_type": "stream",
     "text": [
      "UYM\n",
      "UYM\n"
     ]
    },
    {
     "name": "stderr",
     "output_type": "stream",
     "text": [
      "/Users/jyun/anaconda3/lib/python3.7/site-packages/ipykernel_launcher.py:30: DeprecationWarning: use options instead of chrome_options\n"
     ]
    },
    {
     "name": "stdout",
     "output_type": "stream",
     "text": [
      "SMN\n",
      "SMN\n"
     ]
    },
    {
     "name": "stderr",
     "output_type": "stream",
     "text": [
      "/Users/jyun/anaconda3/lib/python3.7/site-packages/ipykernel_launcher.py:30: DeprecationWarning: use options instead of chrome_options\n"
     ]
    },
    {
     "name": "stdout",
     "output_type": "stream",
     "text": [
      "FXZ\n",
      "FXZ\n"
     ]
    },
    {
     "name": "stderr",
     "output_type": "stream",
     "text": [
      "/Users/jyun/anaconda3/lib/python3.7/site-packages/ipykernel_launcher.py:30: DeprecationWarning: use options instead of chrome_options\n"
     ]
    },
    {
     "name": "stdout",
     "output_type": "stream",
     "text": [
      "MOO\n",
      "MOO\n"
     ]
    },
    {
     "name": "stderr",
     "output_type": "stream",
     "text": [
      "/Users/jyun/anaconda3/lib/python3.7/site-packages/ipykernel_launcher.py:30: DeprecationWarning: use options instead of chrome_options\n"
     ]
    },
    {
     "name": "stdout",
     "output_type": "stream",
     "text": [
      "CUT\n",
      "CUT\n"
     ]
    },
    {
     "name": "stderr",
     "output_type": "stream",
     "text": [
      "/Users/jyun/anaconda3/lib/python3.7/site-packages/ipykernel_launcher.py:30: DeprecationWarning: use options instead of chrome_options\n"
     ]
    },
    {
     "name": "stdout",
     "output_type": "stream",
     "text": [
      "WOOD\n",
      "WOOD\n"
     ]
    },
    {
     "name": "stderr",
     "output_type": "stream",
     "text": [
      "/Users/jyun/anaconda3/lib/python3.7/site-packages/ipykernel_launcher.py:30: DeprecationWarning: use options instead of chrome_options\n"
     ]
    }
   ],
   "source": [
    "from selenium import webdriver\n",
    "import time\n",
    "import csv\n",
    "\n",
    "ETFS = []\n",
    "#open the csv file and record column[0] in a dictionary\n",
    "with open('Materials Equity ETF List (62).csv', newline='') as csvfile:\n",
    "\trows = csv.reader(csvfile)\n",
    "\tfor row in rows:\n",
    "\t\tETFS.append(row[0])\n",
    "\n",
    "#timestamp now\n",
    "Now = int(time.time())\n",
    "print(ETFS)\n",
    "for i in range(1, len(ETFS)):\n",
    "    print(ETFS[i])\n",
    "    #目標網頁的網址\n",
    "    url1 = \"https://finance.yahoo.com/quote/\"\n",
    "    etf = ETFS[i]\n",
    "    print(etf)\n",
    "    url2 = \"/history?period1=1451491200&period2=\"\n",
    "    now = str(Now)\n",
    "    url3 = \"&interval=1d&filter=history&frequency=1d\"\n",
    "    url = url1+etf+url2+now+url3\n",
    "\n",
    "    #用chromedriver開啟Chrome\n",
    "    options = webdriver.ChromeOptions()\n",
    "    prefs = {'profile.default_content_settings.popups': 0, 'download.default_directory': './data'}\n",
    "    options.add_experimental_option('prefs', prefs)\n",
    "    driver = webdriver.Chrome(chrome_options=options)\n",
    "    driver.get(url)\n",
    "\n",
    "    #在網頁中找尋\"Download Data並點擊\"\n",
    "    driver.find_element_by_link_text(\"Download Data\").click()\n",
    "    time.sleep(5)\n",
    "    driver.quit()"
   ]
  }
 ],
 "metadata": {
  "kernelspec": {
   "display_name": "Python 3",
   "language": "python",
   "name": "python3"
  },
  "language_info": {
   "codemirror_mode": {
    "name": "ipython",
    "version": 3
   },
   "file_extension": ".py",
   "mimetype": "text/x-python",
   "name": "python",
   "nbconvert_exporter": "python",
   "pygments_lexer": "ipython3",
   "version": "3.7.1"
  }
 },
 "nbformat": 4,
 "nbformat_minor": 2
}
