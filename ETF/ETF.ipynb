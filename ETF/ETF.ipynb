{
 "cells": [
  {
   "cell_type": "code",
   "execution_count": 6,
   "metadata": {},
   "outputs": [],
   "source": [
    "import pandas as pd\n",
    "import numpy as np\n",
    "import requests \n",
    "from bs4 import BeautifulSoup\n",
    "import urllib.request\n",
    "import os\n",
    "from pyquery import PyQuery as pq\n",
    "import pickle\n",
    "from selenium import webdriver\n",
    "import datetime as dt\n",
    "import time\n",
    "import calendar"
   ]
  },
  {
   "cell_type": "code",
   "execution_count": 7,
   "metadata": {},
   "outputs": [],
   "source": [
    "#整理資料 將2016-01-01前的資料取出\n",
    "origin_list=pd.read_csv(\"Materials Equity ETF List (62).csv\",index_col=22,parse_dates=True)\n",
    "origin_list2=pd.read_csv(\"Telecom Equity ETF List (10).csv\",index_col=22,parse_dates=True)\n",
    "origin_list=pd.concat([origin_list,origin_list2])\n",
    "need_list=origin_list.sort_index().loc[:\"2016-01-01\"]\n",
    "need_list.to_excel(\"new_list.xlsx\")"
   ]
  },
  {
   "cell_type": "code",
   "execution_count": 8,
   "metadata": {},
   "outputs": [],
   "source": [
    "#切出symbol欄&ETF名稱欄\n",
    "need_list=pd.read_excel(\"new_list.xlsx\")\n",
    "symbol_list = need_list['Symbol'].reset_index()['Symbol']\n",
    "name_list = need_list['ETF Name'].reset_index()['ETF Name']\n",
    "all_ETF=need_list[\"Symbol\"].values"
   ]
  },
  {
   "cell_type": "code",
   "execution_count": 9,
   "metadata": {},
   "outputs": [
    {
     "name": "stdout",
     "output_type": "stream",
     "text": [
      "XLB Materials Select Sector SPDR ETF https://us.spdrs.com/en/etf/materials-select-sector-spdr-fund-XLB\n",
      "IYZ iShares U.S. Telecommunications ETF https://www.ishares.com/us/products/239523/ishares-us-telecommunications-etf\n",
      "IYM iShares U.S. Basic Materials ETF https://www.ishares.com/us/products/239503/ishares-us-basic-materials-etf\n",
      "IGE iShares North American Natural Resources ETF https://www.ishares.com/us/products/239768/ishares-north-american-natural-resources-etf\n",
      "IXP iShares Global Telecom ETF https://www.ishares.com/us/products/239751/ishares-global-telecom-etf\n",
      "VAW Vanguard Materials ETF https://personal.vanguard.com/us/funds/snapshot?FundId=0952&FundIntExt=INT\n",
      "VOX Vanguard Communication Services ETF https://personal.vanguard.com/us/funds/snapshot?FundId=0959&FundIntExt=INT\n",
      "PKB Invesco Dynamic Building & Construction ETF https://www.invesco.com/portal/site/us/financial-professional/etfs/product-detail?productId=pkb\n",
      "XHB SPDR S&P Homebuilders ETF https://us.spdrs.com/en/etf/spdr-sp-homebuilders-etf-XHB\n",
      "ITB iShares U.S. Home Construction ETF https://www.ishares.com/us/products/239512/ishares-us-home-construction-etf\n",
      "GDX VanEck Vectors Gold Miners ETF http://www.vaneck.com/vaneck-vectors/equity-etfs/gdx/snapshot/\n",
      "XME SPDR S&P Metals & Mining ETF https://us.spdrs.com/en/etf/spdr-sp-metals-mining-etf-XME\n",
      "MXI iShares Global Materials ETF https://www.ishares.com/us/products/239748/ishares-global-materials-etf\n",
      "PYZ Invesco DWA Basic Materials Momentum ETF https://www.invesco.com/portal/site/us/financial-professional/etfs/product-detail?productId=pyz\n",
      "SLX VanEck Vectors Steel ETF http://www.vaneck.com/vaneck-vectors/equity-etfs/slx/snapshot/\n",
      "RTM Invesco S&P 500® Equal Weight Materials ETF https://www.invesco.com/portal/site/us/financial-professional/etfs/product-detail?productId=RTM\n",
      "UYM ProShares Ultra Basic Materials http://www.proshares.com/funds/uym.html\n",
      "SMN ProShares Ultra Short Basic Materials http://www.proshares.com/funds/smn.html\n",
      "FXZ First Trust Materials AlphaDEX Fund http://www.ftportfolios.com/Retail/Etf/EtfSummary.aspx?Ticker=Fxz\n",
      "MOO VanEck Vectors Agribusiness ETF http://www.vaneck.com/vaneck-vectors/equity-etfs/moo/snapshot/\n",
      "CUT Invesco MSCI Global Timber ETF https://www.invesco.com/portal/site/us/financial-professional/etfs/product-detail?productId=CUT\n",
      "LTL Ultra Telecommunications ProShares http://www.proshares.com/funds/ltl.html\n",
      "WOOD iShares Global Timber & Forestry ETF https://www.ishares.com/us/products/239752/WOOD?referrer=tickerSearch\n",
      "HAP VanEck Vectors Natural Resources ETF http://www.vaneck.com/vaneck-vectors/equity-etfs/hap/snapshot/\n",
      "PSAU Invesco Global Gold and Precious Metals ETF None\n",
      "PAGG Invesco Global Agriculture ETF None\n",
      "FLM First Trust ISE Global Engineering and Construction ETF https://www.ftportfolios.com/retail/etf/ETFsummary.aspx?Ticker=FLM\n",
      "GRES IQ Global Resources ETF https://www.nylinvestments.com/IQetfs/etfs/IQ-Global-Resources-ETF\n",
      "GDXJ VanEck Vectors Junior Gold Miners ETF http://www.vaneck.com/vaneck-vectors/equity-etfs/gdxj/snapshot/\n",
      "CHIM Global X MSCI China Materials ETF http://www.globalxfunds.com/CHIM\n",
      "FTRI First Trust Indxx Global Natural Resources Income ETF http://www.ftportfolios.com/retail/Etf/Etfsummary.aspx?Ticker=FTRI\n",
      "FTAG First Trust Indxx Global Agriculture ETF https://www.ftportfolios.com/Retail/Etf/EtfSummary.aspx?Ticker=FTAG\n",
      "SBM ProShares Short Basic Materials http://www.proshares.com/funds/sbm.html\n",
      "PSCM Invesco S&P SmallCap Materials ETF https://www.invesco.com/portal/site/us/financial-professional/etfs/product-detail?productId=pscm\n",
      "SIL Global X Silver Miners ETF http://www.globalxfunds.com/SIL\n",
      "COPX Global X Copper Miners ETF http://www.globalxfunds.com/COPX\n",
      "LIT Global X Lithium ETF http://www.globalxfunds.com/LIT\n",
      "GNR SPDR S&P Global Natural Resources ETF https://us.spdrs.com/en/etf/spdr-sp-global-natural-resources-etf-GNR\n",
      "REMX VanEck Vectors Rare Earth/Strategic Metals ETF http://www.vaneck.com/vaneck-vectors/equity-etfs/remx/snapshot/\n",
      "GOEX Global X Gold Explorers ETF http://www.globalxfunds.com/GLDX\n",
      "URA Global X Uranium ETF http://www.globalxfunds.com/URA\n",
      "ERUS iShares MSCI Russia ETF http://us.ishares.com/product_info/fund/overview/ERUS.htm\n",
      "NUGT Direxion Daily Gold Miners Bull 3X Shares http://www.direxioninvestments.com/products/direxion-daily-gold-miners-bull-3x-etf\n",
      "DUST Direxion Daily Gold Miners Bear 3X Shares http://www.direxionshares.com/etf/gold_miners_bear_3x_shares.html\n",
      "XTL SPDR S&P Telecom ETF https://us.spdrs.com/en/etf/spdr-sp-telecom-etf-XTL\n",
      "FONE First Trust NASDAQ CEA Smartphone Index Fund https://www.ftportfolios.com/Retail/etf/ETFsummary.aspx?Ticker=FONE\n",
      "CROP IQ Global Agribusiness Small Cap ETF https://www.nylinvestments.com/IQetfs/etfs/IQ-Global-Agribusiness-Small-Cap-ETF\n",
      "SOIL Global X Fertilizers/Potash ETF http://www.globalxfunds.com/SOIL\n",
      "GUNR FlexShares Morningstar Global Upstream Natural Resources Index Fund https://www.flexshares.com/exchange-traded-funds/morningstar-global-upstream-natural-resources-index\n",
      "RING iShares MSCI Global Gold Miners ETF https://www.ishares.com/us/products/239654/ishares-msci-global-gold-miners-etf\n",
      "VEGI iShares MSCI Global Agriculture Producers ETF https://www.ishares.com/us/products/239652/VEGI?referrer=tickerSearch\n",
      "SLVP iShares MSCI Global Silver Miners ETF https://www.ishares.com/us/products/239656/SLVP\n",
      "PICK iShares MSCI Global Select Metals & Mining Producers ETF https://www.ishares.com/us/products/239655/ishares-msci-global-metals-mining-producers-etf\n",
      "SILJ ETFMG Prime Junior Silver ETF http://www.etfmgfunds.com/silj/\n",
      "JDST Direxion Daily Junior Gold Miners Index Bear 3X Shares http://www.direxioninvestments.com/products/direxion-daily-junior-gold-miners-bear-3x-etf\n",
      "JNUG Direxion Daily Junior Gold Miners Index Bull 3x Shares http://www.direxioninvestments.com/products/direxion-daily-junior-gold-miners-bull-3x-etf\n",
      "FCOM Fidelity MSCI Communication Services Index ETF https://screener.fidelity.com/ftgw/etf/goto/snapshot/snapshot.jhtml?symbols=FCOM\n",
      "FMAT Fidelity MSCI Materials Index ETF https://screener.fidelity.com/ftgw/etf/snapshot/snapshot.jhtml?symbols=FMAT\n",
      "SGDM Sprott Gold Miners ETF http://www.sprottetfs.com/overview/sgdm\n",
      "WBIF WBI Bull|Bear Value 1000 ETF http://wbishares.com/products\n",
      "GDXS ProShares UltraShort Gold Miners http://www.proshares.com/funds/gdxs.html\n",
      "GDXX ProShares Ultra Gold Miners http://www.proshares.com/funds/gdxx.html\n",
      "HOML ETRACS Monthly Reset 2xLeveraged ISE Exclusively Homebuilders ETN http://etracs.ubs.com/product/detail/index/ussymbol/homl\n",
      "SGDJ Sprott Junior Gold Miners ETF http://www.sprottetfs.com/overview/sgdj\n",
      "NAIL Direxion Daily Homebuilders & Supplies Bull 3X Shares http://www.direxioninvestments.com/products/daily-homebuilders-supplies-bull-3x-shares\n",
      "NANR SPDR S&P North American Natural Resources ETF https://us.spdrs.com/en/etf/spdr-sp-north-american-natural-resources-etf-NANR\n"
     ]
    }
   ],
   "source": [
    "#整理ETF Homepage 網站\n",
    "homepage_list = []\n",
    "for i in symbol_list:\n",
    "    url = 'https://www.etf.com/'+i+'#overview'\n",
    "    res = requests.get(url)\n",
    "    doc = pq(res.text)\n",
    "    doc.make_links_absolute(res.url)\n",
    "    homepage_list.append(doc('.field-content.helplink')('a').attr('href'))\n",
    "dic = {'symbol':[],'name':[],'addr':[]}\n",
    "for i,s in enumerate(symbol_list):\n",
    "    dic['symbol'].append(s)\n",
    "    dic['name'].append(name_list[i])\n",
    "    dic['addr'].append(homepage_list[i])\n",
    "    print(s,name_list[i],homepage_list[i])\n",
    "    \n",
    " # Save this dic\n",
    "with open(\"ETF_dic.pkl\",\"wb\") as f:\n",
    "    pickle.dump(dic,f)"
   ]
  },
  {
   "cell_type": "code",
   "execution_count": 4,
   "metadata": {},
   "outputs": [],
   "source": [
    "with open('ETF_dic.pkl','rb') as f:\n",
    "    dic = pickle.load(f)"
   ]
  },
  {
   "cell_type": "code",
   "execution_count": 5,
   "metadata": {},
   "outputs": [],
   "source": [
    "#確認資料可從homepage的utl載下來，其他用yahoo finance的資料\n",
    "#部分網站無法下載資料/無Nav, price\n",
    "#只有Nav: spdrs, ishare,  vanguard, invesco, vaneck, nylinvestments, proshares,\n",
    "yahoo_ETF = []\n",
    "for i in range(len(all_ETF)):\n",
    "    try:\n",
    "        if \"screener\" in homepage_list[i]:\n",
    "            continue\n",
    "        elif \"globalxfunds\" in homepage_list[i]:\n",
    "            continue\n",
    "        else:\n",
    "            yahoo_ETF.append(all_ETF[i])\n",
    "    except:\n",
    "        yahoo_ETF.append(all_ETF[i])"
   ]
  },
  {
   "cell_type": "code",
   "execution_count": null,
   "metadata": {},
   "outputs": [],
   "source": [
    "\"\"\"     if \"spdrs\" in homepage_list[i]: #spdrs網站資料\n",
    "            continue\n",
    "        elif \"ishare\" in homepage_list[i]: #ishare\n",
    "            continue\n",
    "        elif \"vanguard\" in homepage_list[i]: #vanguard\n",
    "            continue\n",
    "        elif \"invesco\" in homepage_list[i]: #invesco\n",
    "            continue\n",
    "        elif \"vaneck\" in homepage_list[i]: #vaneck\n",
    "            continue\n",
    "        elif \"nylinvestments\" in homepage_list[i]: #nylinvestments\n",
    "            continue\n",
    "        elif \"screener\" in homepage_list[i]: #screener\n",
    "            continue\n",
    "        elif \"proshares\" in homepage_list[i]: #proshares\n",
    "            continue\n",
    "        elif \"globalxfunds\" in homepage_list[i]: #globalxfunds\n",
    "            continue\n",
    "        else:\n",
    "            yahoo_ETF.append(all_ETF[i])\n",
    "    except:\n",
    "        yahoo_ETF.append(all_ETF[i])\n",
    "\"\"\""
   ]
  },
  {
   "cell_type": "code",
   "execution_count": 7,
   "metadata": {},
   "outputs": [
    {
     "name": "stdout",
     "output_type": "stream",
     "text": [
      "OK\n"
     ]
    },
    {
     "name": "stderr",
     "output_type": "stream",
     "text": [
      "/Users/jyun/anaconda3/lib/python3.7/site-packages/ipykernel_launcher.py:17: DeprecationWarning: use options instead of chrome_options\n"
     ]
    },
    {
     "name": "stdout",
     "output_type": "stream",
     "text": [
      "OK\n"
     ]
    },
    {
     "name": "stderr",
     "output_type": "stream",
     "text": [
      "/Users/jyun/anaconda3/lib/python3.7/site-packages/ipykernel_launcher.py:17: DeprecationWarning: use options instead of chrome_options\n"
     ]
    },
    {
     "name": "stdout",
     "output_type": "stream",
     "text": [
      "OK\n"
     ]
    },
    {
     "name": "stderr",
     "output_type": "stream",
     "text": [
      "/Users/jyun/anaconda3/lib/python3.7/site-packages/ipykernel_launcher.py:17: DeprecationWarning: use options instead of chrome_options\n"
     ]
    },
    {
     "name": "stdout",
     "output_type": "stream",
     "text": [
      "OK\n"
     ]
    },
    {
     "name": "stderr",
     "output_type": "stream",
     "text": [
      "/Users/jyun/anaconda3/lib/python3.7/site-packages/ipykernel_launcher.py:17: DeprecationWarning: use options instead of chrome_options\n"
     ]
    },
    {
     "name": "stdout",
     "output_type": "stream",
     "text": [
      "OK\n"
     ]
    },
    {
     "name": "stderr",
     "output_type": "stream",
     "text": [
      "/Users/jyun/anaconda3/lib/python3.7/site-packages/ipykernel_launcher.py:17: DeprecationWarning: use options instead of chrome_options\n"
     ]
    },
    {
     "name": "stdout",
     "output_type": "stream",
     "text": [
      "OK\n"
     ]
    },
    {
     "name": "stderr",
     "output_type": "stream",
     "text": [
      "/Users/jyun/anaconda3/lib/python3.7/site-packages/ipykernel_launcher.py:17: DeprecationWarning: use options instead of chrome_options\n"
     ]
    },
    {
     "name": "stdout",
     "output_type": "stream",
     "text": [
      "OK\n"
     ]
    },
    {
     "name": "stderr",
     "output_type": "stream",
     "text": [
      "/Users/jyun/anaconda3/lib/python3.7/site-packages/ipykernel_launcher.py:17: DeprecationWarning: use options instead of chrome_options\n"
     ]
    },
    {
     "name": "stdout",
     "output_type": "stream",
     "text": [
      "OK\n"
     ]
    },
    {
     "name": "stderr",
     "output_type": "stream",
     "text": [
      "/Users/jyun/anaconda3/lib/python3.7/site-packages/ipykernel_launcher.py:17: DeprecationWarning: use options instead of chrome_options\n"
     ]
    },
    {
     "name": "stdout",
     "output_type": "stream",
     "text": [
      "OK\n"
     ]
    },
    {
     "name": "stderr",
     "output_type": "stream",
     "text": [
      "/Users/jyun/anaconda3/lib/python3.7/site-packages/ipykernel_launcher.py:17: DeprecationWarning: use options instead of chrome_options\n"
     ]
    },
    {
     "name": "stdout",
     "output_type": "stream",
     "text": [
      "OK\n"
     ]
    },
    {
     "name": "stderr",
     "output_type": "stream",
     "text": [
      "/Users/jyun/anaconda3/lib/python3.7/site-packages/ipykernel_launcher.py:17: DeprecationWarning: use options instead of chrome_options\n"
     ]
    },
    {
     "name": "stdout",
     "output_type": "stream",
     "text": [
      "OK\n"
     ]
    },
    {
     "name": "stderr",
     "output_type": "stream",
     "text": [
      "/Users/jyun/anaconda3/lib/python3.7/site-packages/ipykernel_launcher.py:17: DeprecationWarning: use options instead of chrome_options\n"
     ]
    },
    {
     "name": "stdout",
     "output_type": "stream",
     "text": [
      "OK\n"
     ]
    },
    {
     "name": "stderr",
     "output_type": "stream",
     "text": [
      "/Users/jyun/anaconda3/lib/python3.7/site-packages/ipykernel_launcher.py:17: DeprecationWarning: use options instead of chrome_options\n"
     ]
    },
    {
     "name": "stdout",
     "output_type": "stream",
     "text": [
      "OK\n"
     ]
    },
    {
     "name": "stderr",
     "output_type": "stream",
     "text": [
      "/Users/jyun/anaconda3/lib/python3.7/site-packages/ipykernel_launcher.py:17: DeprecationWarning: use options instead of chrome_options\n"
     ]
    },
    {
     "name": "stdout",
     "output_type": "stream",
     "text": [
      "OK\n"
     ]
    },
    {
     "name": "stderr",
     "output_type": "stream",
     "text": [
      "/Users/jyun/anaconda3/lib/python3.7/site-packages/ipykernel_launcher.py:17: DeprecationWarning: use options instead of chrome_options\n"
     ]
    },
    {
     "name": "stdout",
     "output_type": "stream",
     "text": [
      "OK\n"
     ]
    },
    {
     "name": "stderr",
     "output_type": "stream",
     "text": [
      "/Users/jyun/anaconda3/lib/python3.7/site-packages/ipykernel_launcher.py:17: DeprecationWarning: use options instead of chrome_options\n"
     ]
    },
    {
     "name": "stdout",
     "output_type": "stream",
     "text": [
      "OK\n"
     ]
    },
    {
     "name": "stderr",
     "output_type": "stream",
     "text": [
      "/Users/jyun/anaconda3/lib/python3.7/site-packages/ipykernel_launcher.py:17: DeprecationWarning: use options instead of chrome_options\n"
     ]
    },
    {
     "name": "stdout",
     "output_type": "stream",
     "text": [
      "OK\n"
     ]
    },
    {
     "name": "stderr",
     "output_type": "stream",
     "text": [
      "/Users/jyun/anaconda3/lib/python3.7/site-packages/ipykernel_launcher.py:17: DeprecationWarning: use options instead of chrome_options\n"
     ]
    },
    {
     "name": "stdout",
     "output_type": "stream",
     "text": [
      "OK\n"
     ]
    },
    {
     "name": "stderr",
     "output_type": "stream",
     "text": [
      "/Users/jyun/anaconda3/lib/python3.7/site-packages/ipykernel_launcher.py:17: DeprecationWarning: use options instead of chrome_options\n"
     ]
    },
    {
     "name": "stdout",
     "output_type": "stream",
     "text": [
      "OK\n"
     ]
    },
    {
     "name": "stderr",
     "output_type": "stream",
     "text": [
      "/Users/jyun/anaconda3/lib/python3.7/site-packages/ipykernel_launcher.py:17: DeprecationWarning: use options instead of chrome_options\n"
     ]
    },
    {
     "name": "stdout",
     "output_type": "stream",
     "text": [
      "OK\n"
     ]
    },
    {
     "name": "stderr",
     "output_type": "stream",
     "text": [
      "/Users/jyun/anaconda3/lib/python3.7/site-packages/ipykernel_launcher.py:17: DeprecationWarning: use options instead of chrome_options\n"
     ]
    },
    {
     "name": "stdout",
     "output_type": "stream",
     "text": [
      "OK\n"
     ]
    },
    {
     "name": "stderr",
     "output_type": "stream",
     "text": [
      "/Users/jyun/anaconda3/lib/python3.7/site-packages/ipykernel_launcher.py:17: DeprecationWarning: use options instead of chrome_options\n"
     ]
    },
    {
     "name": "stdout",
     "output_type": "stream",
     "text": [
      "OK\n"
     ]
    },
    {
     "name": "stderr",
     "output_type": "stream",
     "text": [
      "/Users/jyun/anaconda3/lib/python3.7/site-packages/ipykernel_launcher.py:17: DeprecationWarning: use options instead of chrome_options\n"
     ]
    },
    {
     "name": "stdout",
     "output_type": "stream",
     "text": [
      "OK\n"
     ]
    },
    {
     "name": "stderr",
     "output_type": "stream",
     "text": [
      "/Users/jyun/anaconda3/lib/python3.7/site-packages/ipykernel_launcher.py:17: DeprecationWarning: use options instead of chrome_options\n"
     ]
    },
    {
     "name": "stdout",
     "output_type": "stream",
     "text": [
      "OK\n"
     ]
    },
    {
     "name": "stderr",
     "output_type": "stream",
     "text": [
      "/Users/jyun/anaconda3/lib/python3.7/site-packages/ipykernel_launcher.py:17: DeprecationWarning: use options instead of chrome_options\n"
     ]
    },
    {
     "name": "stdout",
     "output_type": "stream",
     "text": [
      "OK\n"
     ]
    },
    {
     "name": "stderr",
     "output_type": "stream",
     "text": [
      "/Users/jyun/anaconda3/lib/python3.7/site-packages/ipykernel_launcher.py:17: DeprecationWarning: use options instead of chrome_options\n"
     ]
    },
    {
     "name": "stdout",
     "output_type": "stream",
     "text": [
      "OK\n"
     ]
    },
    {
     "name": "stderr",
     "output_type": "stream",
     "text": [
      "/Users/jyun/anaconda3/lib/python3.7/site-packages/ipykernel_launcher.py:17: DeprecationWarning: use options instead of chrome_options\n"
     ]
    },
    {
     "name": "stdout",
     "output_type": "stream",
     "text": [
      "OK\n"
     ]
    },
    {
     "name": "stderr",
     "output_type": "stream",
     "text": [
      "/Users/jyun/anaconda3/lib/python3.7/site-packages/ipykernel_launcher.py:17: DeprecationWarning: use options instead of chrome_options\n"
     ]
    },
    {
     "name": "stdout",
     "output_type": "stream",
     "text": [
      "OK\n"
     ]
    },
    {
     "name": "stderr",
     "output_type": "stream",
     "text": [
      "/Users/jyun/anaconda3/lib/python3.7/site-packages/ipykernel_launcher.py:17: DeprecationWarning: use options instead of chrome_options\n"
     ]
    },
    {
     "name": "stdout",
     "output_type": "stream",
     "text": [
      "OK\n"
     ]
    },
    {
     "name": "stderr",
     "output_type": "stream",
     "text": [
      "/Users/jyun/anaconda3/lib/python3.7/site-packages/ipykernel_launcher.py:17: DeprecationWarning: use options instead of chrome_options\n"
     ]
    },
    {
     "name": "stdout",
     "output_type": "stream",
     "text": [
      "OK\n"
     ]
    },
    {
     "name": "stderr",
     "output_type": "stream",
     "text": [
      "/Users/jyun/anaconda3/lib/python3.7/site-packages/ipykernel_launcher.py:17: DeprecationWarning: use options instead of chrome_options\n"
     ]
    },
    {
     "name": "stdout",
     "output_type": "stream",
     "text": [
      "OK\n"
     ]
    },
    {
     "name": "stderr",
     "output_type": "stream",
     "text": [
      "/Users/jyun/anaconda3/lib/python3.7/site-packages/ipykernel_launcher.py:17: DeprecationWarning: use options instead of chrome_options\n"
     ]
    },
    {
     "name": "stdout",
     "output_type": "stream",
     "text": [
      "OK\n"
     ]
    },
    {
     "name": "stderr",
     "output_type": "stream",
     "text": [
      "/Users/jyun/anaconda3/lib/python3.7/site-packages/ipykernel_launcher.py:17: DeprecationWarning: use options instead of chrome_options\n"
     ]
    },
    {
     "name": "stdout",
     "output_type": "stream",
     "text": [
      "OK\n"
     ]
    },
    {
     "name": "stderr",
     "output_type": "stream",
     "text": [
      "/Users/jyun/anaconda3/lib/python3.7/site-packages/ipykernel_launcher.py:17: DeprecationWarning: use options instead of chrome_options\n"
     ]
    },
    {
     "name": "stdout",
     "output_type": "stream",
     "text": [
      "OK\n"
     ]
    },
    {
     "name": "stderr",
     "output_type": "stream",
     "text": [
      "/Users/jyun/anaconda3/lib/python3.7/site-packages/ipykernel_launcher.py:17: DeprecationWarning: use options instead of chrome_options\n"
     ]
    },
    {
     "name": "stdout",
     "output_type": "stream",
     "text": [
      "OK\n"
     ]
    },
    {
     "name": "stderr",
     "output_type": "stream",
     "text": [
      "/Users/jyun/anaconda3/lib/python3.7/site-packages/ipykernel_launcher.py:17: DeprecationWarning: use options instead of chrome_options\n"
     ]
    },
    {
     "name": "stdout",
     "output_type": "stream",
     "text": [
      "OK\n"
     ]
    },
    {
     "name": "stderr",
     "output_type": "stream",
     "text": [
      "/Users/jyun/anaconda3/lib/python3.7/site-packages/ipykernel_launcher.py:17: DeprecationWarning: use options instead of chrome_options\n"
     ]
    },
    {
     "name": "stdout",
     "output_type": "stream",
     "text": [
      "OK\n"
     ]
    },
    {
     "name": "stderr",
     "output_type": "stream",
     "text": [
      "/Users/jyun/anaconda3/lib/python3.7/site-packages/ipykernel_launcher.py:17: DeprecationWarning: use options instead of chrome_options\n"
     ]
    },
    {
     "name": "stdout",
     "output_type": "stream",
     "text": [
      "OK\n"
     ]
    },
    {
     "name": "stderr",
     "output_type": "stream",
     "text": [
      "/Users/jyun/anaconda3/lib/python3.7/site-packages/ipykernel_launcher.py:17: DeprecationWarning: use options instead of chrome_options\n"
     ]
    },
    {
     "name": "stdout",
     "output_type": "stream",
     "text": [
      "OK\n"
     ]
    },
    {
     "name": "stderr",
     "output_type": "stream",
     "text": [
      "/Users/jyun/anaconda3/lib/python3.7/site-packages/ipykernel_launcher.py:17: DeprecationWarning: use options instead of chrome_options\n"
     ]
    },
    {
     "name": "stdout",
     "output_type": "stream",
     "text": [
      "OK\n"
     ]
    },
    {
     "name": "stderr",
     "output_type": "stream",
     "text": [
      "/Users/jyun/anaconda3/lib/python3.7/site-packages/ipykernel_launcher.py:17: DeprecationWarning: use options instead of chrome_options\n"
     ]
    },
    {
     "name": "stdout",
     "output_type": "stream",
     "text": [
      "OK\n"
     ]
    },
    {
     "name": "stderr",
     "output_type": "stream",
     "text": [
      "/Users/jyun/anaconda3/lib/python3.7/site-packages/ipykernel_launcher.py:17: DeprecationWarning: use options instead of chrome_options\n"
     ]
    },
    {
     "name": "stdout",
     "output_type": "stream",
     "text": [
      "OK\n"
     ]
    },
    {
     "name": "stderr",
     "output_type": "stream",
     "text": [
      "/Users/jyun/anaconda3/lib/python3.7/site-packages/ipykernel_launcher.py:17: DeprecationWarning: use options instead of chrome_options\n"
     ]
    },
    {
     "name": "stdout",
     "output_type": "stream",
     "text": [
      "OK\n"
     ]
    },
    {
     "name": "stderr",
     "output_type": "stream",
     "text": [
      "/Users/jyun/anaconda3/lib/python3.7/site-packages/ipykernel_launcher.py:17: DeprecationWarning: use options instead of chrome_options\n"
     ]
    },
    {
     "name": "stdout",
     "output_type": "stream",
     "text": [
      "OK\n"
     ]
    },
    {
     "name": "stderr",
     "output_type": "stream",
     "text": [
      "/Users/jyun/anaconda3/lib/python3.7/site-packages/ipykernel_launcher.py:17: DeprecationWarning: use options instead of chrome_options\n"
     ]
    },
    {
     "name": "stdout",
     "output_type": "stream",
     "text": [
      "OK\n"
     ]
    },
    {
     "name": "stderr",
     "output_type": "stream",
     "text": [
      "/Users/jyun/anaconda3/lib/python3.7/site-packages/ipykernel_launcher.py:17: DeprecationWarning: use options instead of chrome_options\n"
     ]
    },
    {
     "name": "stdout",
     "output_type": "stream",
     "text": [
      "OK\n"
     ]
    },
    {
     "name": "stderr",
     "output_type": "stream",
     "text": [
      "/Users/jyun/anaconda3/lib/python3.7/site-packages/ipykernel_launcher.py:17: DeprecationWarning: use options instead of chrome_options\n"
     ]
    },
    {
     "name": "stdout",
     "output_type": "stream",
     "text": [
      "OK\n"
     ]
    },
    {
     "name": "stderr",
     "output_type": "stream",
     "text": [
      "/Users/jyun/anaconda3/lib/python3.7/site-packages/ipykernel_launcher.py:17: DeprecationWarning: use options instead of chrome_options\n"
     ]
    },
    {
     "name": "stdout",
     "output_type": "stream",
     "text": [
      "OK\n"
     ]
    },
    {
     "name": "stderr",
     "output_type": "stream",
     "text": [
      "/Users/jyun/anaconda3/lib/python3.7/site-packages/ipykernel_launcher.py:17: DeprecationWarning: use options instead of chrome_options\n"
     ]
    },
    {
     "name": "stdout",
     "output_type": "stream",
     "text": [
      "OK\n"
     ]
    },
    {
     "name": "stderr",
     "output_type": "stream",
     "text": [
      "/Users/jyun/anaconda3/lib/python3.7/site-packages/ipykernel_launcher.py:17: DeprecationWarning: use options instead of chrome_options\n"
     ]
    },
    {
     "name": "stdout",
     "output_type": "stream",
     "text": [
      "OK\n"
     ]
    },
    {
     "name": "stderr",
     "output_type": "stream",
     "text": [
      "/Users/jyun/anaconda3/lib/python3.7/site-packages/ipykernel_launcher.py:17: DeprecationWarning: use options instead of chrome_options\n"
     ]
    },
    {
     "name": "stdout",
     "output_type": "stream",
     "text": [
      "OK\n"
     ]
    },
    {
     "name": "stderr",
     "output_type": "stream",
     "text": [
      "/Users/jyun/anaconda3/lib/python3.7/site-packages/ipykernel_launcher.py:17: DeprecationWarning: use options instead of chrome_options\n"
     ]
    },
    {
     "name": "stdout",
     "output_type": "stream",
     "text": [
      "OK\n"
     ]
    },
    {
     "name": "stderr",
     "output_type": "stream",
     "text": [
      "/Users/jyun/anaconda3/lib/python3.7/site-packages/ipykernel_launcher.py:17: DeprecationWarning: use options instead of chrome_options\n"
     ]
    },
    {
     "name": "stdout",
     "output_type": "stream",
     "text": [
      "OK\n"
     ]
    },
    {
     "name": "stderr",
     "output_type": "stream",
     "text": [
      "/Users/jyun/anaconda3/lib/python3.7/site-packages/ipykernel_launcher.py:17: DeprecationWarning: use options instead of chrome_options\n"
     ]
    },
    {
     "name": "stdout",
     "output_type": "stream",
     "text": [
      "OK\n"
     ]
    },
    {
     "name": "stderr",
     "output_type": "stream",
     "text": [
      "/Users/jyun/anaconda3/lib/python3.7/site-packages/ipykernel_launcher.py:17: DeprecationWarning: use options instead of chrome_options\n"
     ]
    },
    {
     "name": "stdout",
     "output_type": "stream",
     "text": [
      "OK\n"
     ]
    },
    {
     "name": "stderr",
     "output_type": "stream",
     "text": [
      "/Users/jyun/anaconda3/lib/python3.7/site-packages/ipykernel_launcher.py:17: DeprecationWarning: use options instead of chrome_options\n"
     ]
    },
    {
     "name": "stdout",
     "output_type": "stream",
     "text": [
      "OK\n"
     ]
    },
    {
     "name": "stderr",
     "output_type": "stream",
     "text": [
      "/Users/jyun/anaconda3/lib/python3.7/site-packages/ipykernel_launcher.py:17: DeprecationWarning: use options instead of chrome_options\n"
     ]
    },
    {
     "name": "stdout",
     "output_type": "stream",
     "text": [
      "OK\n"
     ]
    },
    {
     "name": "stderr",
     "output_type": "stream",
     "text": [
      "/Users/jyun/anaconda3/lib/python3.7/site-packages/ipykernel_launcher.py:17: DeprecationWarning: use options instead of chrome_options\n"
     ]
    }
   ],
   "source": [
    "#timestamp now\n",
    "#download ETFs at yahoo finance Web\n",
    "Now = int(time.time())\n",
    "for i in range(len(yahoo_ETF)):\n",
    "    try:\n",
    "        #目標網頁的網址\n",
    "        url1 = \"https://finance.yahoo.com/quote/\"\n",
    "        etf = yahoo_ETF[i]\n",
    "        url2 = \"/history?period1=1451577600&period2=\"\n",
    "        now = str(Now)\n",
    "        url3 = \"&interval=1d&filter=history&frequency=1d\"\n",
    "        url = url1+etf+url2+now+url3\n",
    "        print(\"OK\")\n",
    "        #用chromedriver開啟Chrome\n",
    "        options = webdriver.ChromeOptions()\n",
    "        prefs = {'profile.default_content_settings.popups': 0, 'download.default_directory': './data'}\n",
    "        options.add_experimental_option('prefs', prefs)\n",
    "        driver = webdriver.Chrome(chrome_options=options)\n",
    "        driver.get(url)\n",
    "\n",
    "        #在網頁中找尋\"Download Data並點擊\"\n",
    "        driver.find_element_by_link_text(\"Download Data\").click()\n",
    "        time.sleep(5)\n",
    "        driver.quit()\n",
    "    except:\n",
    "        print(yahoo_ETF[i])"
   ]
  },
  {
   "cell_type": "code",
   "execution_count": 185,
   "metadata": {},
   "outputs": [
    {
     "ename": "SyntaxError",
     "evalue": "invalid syntax (<ipython-input-185-72acb1537483>, line 2)",
     "output_type": "error",
     "traceback": [
      "\u001b[0;36m  File \u001b[0;32m\"<ipython-input-185-72acb1537483>\"\u001b[0;36m, line \u001b[0;32m2\u001b[0m\n\u001b[0;31m    new df = pd.DataFrame(data_name, columns=項目list)\u001b[0m\n\u001b[0m         ^\u001b[0m\n\u001b[0;31mSyntaxError\u001b[0m\u001b[0;31m:\u001b[0m invalid syntax\n"
     ]
    }
   ],
   "source": [
    "ETFtable = pd.DataFrame()\n",
    "def download_spdrs(i, homepage):\n",
    "    file_url= \"https://us.spdrs.com/site-content/xls/\"+all_ETF[i]+\"_HistoricalNav.xls?fund=\"+all_ETF[i]+\"&amp;docname=Most+Recent+NAV+%2F+NAV+History&amp;onyx_code1=&amp;onyx_code2=\"\n",
    "    file_name=\"data/\"+all_ETF[i]+\".xls\"\n",
    "    urllib.request.urlretrieve(file_url, file_name)\n",
    "    data=pd.read_excel(file_name,index_col=0,header=2).dropna(axis=1,how=\"all\")\n",
    "    data.columns=[all_ETF[i]]\n",
    "    ETFtable = pd.concat([ETFtable,data], axis=1)\n",
    "    \n",
    "\n",
    "    return(Nav)\n",
    "    \n",
    "data3.loc[:\"04-Jan-2016\"].dropna(axis=1,how='all')\n",
    "\n",
    "\n",
    "\n",
    "        #用chromedriver開啟Chrome\n",
    "        options = webdriver.ChromeOptions()\n",
    "        prefs = {'profile.default_content_settings.popups': 0, 'download.default_directory': './data'}\n",
    "        options.add_experimental_option('prefs', prefs)\n",
    "        driver = webdriver.Chrome(chrome_options=options)\n",
    "        driver.get(url)\n",
    "\n",
    "        #在網頁中找尋\"Download Data並點擊\"\n",
    "        driver.find_element_by_link_text(\"Download Data\").click()\n",
    "        time.sleep(10)\n",
    "        driver.quit()"
   ]
  },
  {
   "cell_type": "code",
   "execution_count": 179,
   "metadata": {},
   "outputs": [],
   "source": [
    "data1=pd.read_excel(\"XME_HistoricalNav.xls\",index_col=0)\n",
    "data2=pd.read_excel(\"XME_HistoricalNav.xls\",index_col=0,header=2)\n",
    "data3=pd.read_excel(\"XME_HistoricalNav.xls\",index_col=0,header=2)\n"
   ]
  },
  {
   "cell_type": "code",
   "execution_count": 157,
   "metadata": {},
   "outputs": [
    {
     "data": {
      "text/plain": [
       "datetime.datetime(2019, 3, 14, 0, 0)"
      ]
     },
     "execution_count": 157,
     "metadata": {},
     "output_type": "execute_result"
    }
   ],
   "source": [
    "file_url= \"https://us.spdrs.com/site-content/xls/\"+all_ETF[i]+\"_HistoricalNav.xls?fund=\"+all_ETF[i]+\"&amp;docname=Most+Recent+NAV+%2F+NAV+History&amp;onyx_code1=&amp;onyx_code2=\"\n",
    "file_name=\"data/\"+all_ETF[i]+\".xls\"\n",
    "urllib.request.urlretrieve(file_url, file_name)\n",
    "data=pd.read_excel(file_name,index_col=0,header=2).dropna(axis=1,how=\"all\")\n",
    "data.columns=[all_ETF[i]]\n",
    "ETFtable = pd.concat([ETFtable,data], axis=1)\n",
    "    \n"
   ]
  }
 ],
 "metadata": {
  "kernelspec": {
   "display_name": "Python 3",
   "language": "python",
   "name": "python3"
  },
  "language_info": {
   "codemirror_mode": {
    "name": "ipython",
    "version": 3
   },
   "file_extension": ".py",
   "mimetype": "text/x-python",
   "name": "python",
   "nbconvert_exporter": "python",
   "pygments_lexer": "ipython3",
   "version": "3.7.1"
  }
 },
 "nbformat": 4,
 "nbformat_minor": 2
}
