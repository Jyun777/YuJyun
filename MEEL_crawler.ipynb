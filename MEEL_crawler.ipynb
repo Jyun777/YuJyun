{
 "cells": [
  {
   "cell_type": "code",
   "execution_count": 6,
   "metadata": {},
   "outputs": [
    {
     "ename": "IndentationError",
     "evalue": "unindent does not match any outer indentation level (<tokenize>, line 27)",
     "output_type": "error",
     "traceback": [
      "\u001b[0;36m  File \u001b[0;32m\"<tokenize>\"\u001b[0;36m, line \u001b[0;32m27\u001b[0m\n\u001b[0;31m    options = webdriver.ChromeOptions()\u001b[0m\n\u001b[0m    ^\u001b[0m\n\u001b[0;31mIndentationError\u001b[0m\u001b[0;31m:\u001b[0m unindent does not match any outer indentation level\n"
     ]
    }
   ],
   "source": [
    "from selenium import webdriver\n",
    "import time\n",
    "import csv\n",
    "\n",
    "ETFS = []\n",
    "#open the csv file and record column[0] in a dictionary\n",
    "with open('Materials Equity ETF List (62).csv', newline='') as csvfile:\n",
    "\trows = csv.reader(csvfile)\n",
    "\tfor row in rows:\n",
    "\t\tETFS.append(row[0])\n",
    "\n",
    "#timestamp now\n",
    "Now = int(time.time())\n",
    "\n",
    "for i in range(1, len(ETFS)):\n",
    "\tprint(ETFS[i])\n",
    "\t#目標網頁的網址\n",
    "\turl1 = \"https://finance.yahoo.com/quote/\"\n",
    "\tetf = ETFS[i]\n",
    "\tprint(etf)\n",
    "\turl2 = \"/history?period1=1451491200&period2=\"\n",
    "\tnow = str(Now)\n",
    "\turl3 = \"&interval=1d&filter=history&frequency=1d\"\n",
    "\turl = url1+etf+url2+now+url3\n",
    "\n",
    "\t#用chromedriver開啟Chrome\n",
    "    options = webdriver.ChromeOptions()\n",
    "    prefs = {'profile.default_content_settings.popups': 0, 'download.default_directory': './data'}\n",
    "    options.add_experimental_option('prefs', prefs)\n",
    "    driver = webdriver.Chrome(chrome_options=options)\n",
    "\tdriver.get(url)\n",
    "\n",
    "\t#在網頁中找尋\"Download Data並點擊\"\n",
    "\tdriver.find_element_by_link_text(\"Download Data\").click()\n",
    "    time.sleep(5)\n",
    "    driver.quit()"
   ]
  },
  {
   "cell_type": "code",
   "execution_count": null,
   "metadata": {},
   "outputs": [],
   "source": []
  }
 ],
 "metadata": {
  "kernelspec": {
   "display_name": "Python 3",
   "language": "python",
   "name": "python3"
  },
  "language_info": {
   "codemirror_mode": {
    "name": "ipython",
    "version": 3
   },
   "file_extension": ".py",
   "mimetype": "text/x-python",
   "name": "python",
   "nbconvert_exporter": "python",
   "pygments_lexer": "ipython3",
   "version": "3.7.1"
  }
 },
 "nbformat": 4,
 "nbformat_minor": 2
}
